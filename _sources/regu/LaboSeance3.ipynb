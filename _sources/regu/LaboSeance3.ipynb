{
 "cells": [
  {
   "cell_type": "markdown",
   "id": "2115251d-6f70-4904-bd0e-53a16ddb0f25",
   "metadata": {},
   "source": [
    "# Séance 3"
   ]
  },
  {
   "cell_type": "markdown",
   "id": "bc95de19-afbd-44c4-ab22-6e61a8fde980",
   "metadata": {
    "tags": []
   },
   "source": [
    "## Objectifs de la séance\n",
    "\n",
    "- Analyse d’un système en boucle fermée : feedback\n",
    "- Analyse de la réponse indicielle et valeurs « idéales » de la réponse à un échelon\n",
    "- Influence du correcteur proportionnel sur les caractéristiques temporelles : dépassement, temps de réponse, ... et sur les pôles du système en BF."
   ]
  },
  {
   "cell_type": "code",
   "execution_count": 1,
   "id": "32fb5a16-56de-4e71-86ad-738f916624e0",
   "metadata": {},
   "outputs": [],
   "source": [
    "from IPython.display import Image, display, Markdown\n",
    "\n",
    "from control.matlab import *  # Python Control Systems Toolbox (compatibility with MATLAB)\n",
    "import numpy as np              # Library to manipulate array and matrix\n",
    "import matplotlib.pyplot as plt # Library to create figures and plots\n",
    "import math # Library to be able to do some mathematical operations\n",
    "import ReguLabFct as rlf # Library useful for the laboratory of regulation of HELMo Gramme"
   ]
  }
 ],
 "metadata": {
  "kernelspec": {
   "display_name": "Python 3 (ipykernel)",
   "language": "python",
   "name": "python3"
  },
  "language_info": {
   "codemirror_mode": {
    "name": "ipython",
    "version": 3
   },
   "file_extension": ".py",
   "mimetype": "text/x-python",
   "name": "python",
   "nbconvert_exporter": "python",
   "pygments_lexer": "ipython3",
   "version": "3.8.10"
  }
 },
 "nbformat": 4,
 "nbformat_minor": 5
}
