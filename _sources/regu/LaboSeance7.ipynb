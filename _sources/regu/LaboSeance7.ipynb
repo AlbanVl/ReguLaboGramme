{
 "cells": [
  {
   "cell_type": "markdown",
   "id": "0bfb8c47-f501-4a77-beb1-c656ce82e0d4",
   "metadata": {},
   "source": [
    "# Séance 7"
   ]
  },
  {
   "cell_type": "markdown",
   "id": "579f62cc-2fff-4ded-a326-35d734fddaf2",
   "metadata": {
    "tags": []
   },
   "source": [
    "## Objectif de la séance\n",
    "\n",
    "- Synthétiser tout ce qui a été appris durant les séances précédentes en résolvant un exercice récapitulatif"
   ]
  },
  {
   "cell_type": "code",
   "execution_count": 1,
   "id": "7aa8f37e-e25f-4728-91d2-388d5dbdd333",
   "metadata": {
    "tags": [
     "remove-cell"
    ]
   },
   "outputs": [],
   "source": [
    "from IPython.display import Image, display, Markdown\n",
    "\n",
    "from control import matlab as ml  # Python Control Systems Toolbox (compatibility with MATLAB)\n",
    "import numpy as np              # Library to manipulate array and matrix\n",
    "import matplotlib.pyplot as plt # Library to create figures and plots\n",
    "import math # Library to be able to do some mathematical operations\n",
    "import ReguLabFct as rlf # Library useful for the laboratory of regulation of HELMo Gramme"
   ]
  },
  {
   "cell_type": "markdown",
   "id": "9111267e-8860-453f-b5cb-423cf4e0c636",
   "metadata": {
    "tags": []
   },
   "source": [
    "## Exercices récapitulatifs\n",
    "\n",
    "### Exercice type examen (cf. HELMo Learn)"
   ]
  },
  {
   "cell_type": "code",
   "execution_count": null,
   "id": "54364ba9-354b-495f-853e-9c67cb3af08d",
   "metadata": {
    "tags": [
     "hide-cell"
    ]
   },
   "outputs": [],
   "source": []
  },
  {
   "cell_type": "markdown",
   "id": "582a21cf-2c21-4d1d-ac98-e0b66c7ff2d7",
   "metadata": {},
   "source": [
    "### [Facultatif] Exercice 3 page 7-27\n",
    "\n",
    ":::{warning}\n",
    "Il y a une petite erreur dans le point 2 de la solution au niveau du terme indépendant au dénominateur qui devrait être égale à 1!\n",
    ":::"
   ]
  },
  {
   "cell_type": "code",
   "execution_count": null,
   "id": "95bac3f4-1e4b-40de-8f8e-7f29e552ab6f",
   "metadata": {
    "tags": [
     "hide-cell"
    ]
   },
   "outputs": [],
   "source": []
  },
  {
   "cell_type": "markdown",
   "id": "581e27a4-0d56-406f-b660-4dae1226e19f",
   "metadata": {},
   "source": [
    "### [Facultatif] Application 3  (cf. p. \"application-4\")\n",
    "\n",
    "Effectuez la résolution par programmation Python."
   ]
  },
  {
   "cell_type": "code",
   "execution_count": null,
   "id": "67024a73-13f2-41b6-b392-a22d7a2198f5",
   "metadata": {
    "tags": [
     "hide-cell"
    ]
   },
   "outputs": [],
   "source": []
  },
  {
   "cell_type": "markdown",
   "id": "752a7352-b6e0-4af4-8a09-5f02c677061c",
   "metadata": {
    "tags": []
   },
   "source": [
    "### [Facultatif] Application 5 (cf. p. \"application-8\")\n",
    " \n",
    "Effectuez la résolution par programmation Python."
   ]
  },
  {
   "cell_type": "code",
   "execution_count": null,
   "id": "a533c966-25b5-4acd-ae0e-e968549a1ecd",
   "metadata": {
    "tags": [
     "hide-cell"
    ]
   },
   "outputs": [],
   "source": []
  }
 ],
 "metadata": {
  "kernelspec": {
   "display_name": "Python 3 (ipykernel)",
   "language": "python",
   "name": "python3"
  },
  "language_info": {
   "codemirror_mode": {
    "name": "ipython",
    "version": 3
   },
   "file_extension": ".py",
   "mimetype": "text/x-python",
   "name": "python",
   "nbconvert_exporter": "python",
   "pygments_lexer": "ipython3",
   "version": "3.7.11"
  }
 },
 "nbformat": 4,
 "nbformat_minor": 5
}
