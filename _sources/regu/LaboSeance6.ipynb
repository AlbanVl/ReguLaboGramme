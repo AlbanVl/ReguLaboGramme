{
 "cells": [
  {
   "cell_type": "markdown",
   "id": "97f26214-eecc-4e09-8b27-5f652d06a97b",
   "metadata": {},
   "source": [
    "# Séance 6"
   ]
  },
  {
   "cell_type": "markdown",
   "id": "0b7ec5d2-ed94-4ca9-a69e-82ead3ce4c9a",
   "metadata": {
    "tags": []
   },
   "source": [
    "## Objectifs de la séance\n",
    "\n",
    "- Résolution graphique de la détermination du correcteur PD par placement fréquentiel\n",
    "- Résolution graphique de la correction du correcteur PID"
   ]
  },
  {
   "cell_type": "code",
   "execution_count": 1,
   "id": "435faa9b-7008-4ae3-a913-d17622d60ee6",
   "metadata": {
    "tags": [
     "remove-cell"
    ]
   },
   "outputs": [],
   "source": [
    "from IPython.display import Image, display, Markdown\n",
    "\n",
    "from control.matlab import *  # Python Control Systems Toolbox (compatibility with MATLAB)\n",
    "import numpy as np              # Library to manipulate array and matrix\n",
    "import matplotlib.pyplot as plt # Library to create figures and plots\n",
    "import math # Library to be able to do some mathematical operations\n",
    "import ReguLabFct as rlf # Library useful for the laboratory of regulation of HELMo Gramme"
   ]
  },
  {
   "cell_type": "markdown",
   "id": "67bf333c-20ad-44b7-90f3-f43e65d5e641",
   "metadata": {},
   "source": [
    "## Régulateur PD\n",
    "\n",
    "### Exercice 6 page 7-15 (fait au cours)"
   ]
  },
  {
   "cell_type": "code",
   "execution_count": null,
   "id": "ff1d21ee-a240-4925-9fba-835012d2c126",
   "metadata": {
    "tags": [
     "hide-cell"
    ]
   },
   "outputs": [],
   "source": []
  },
  {
   "cell_type": "markdown",
   "id": "ae306944-a554-4658-8a9b-483676b32592",
   "metadata": {},
   "source": [
    "## Régulateur PID\n",
    "\n",
    "Soit le système asservi à retour unitaire dont la fonction de boucle ouverte est :\n",
    "\n",
    "$$\n",
    " G(p)=\\frac{20}{(5+p)(2p+3)(4+3p)}\n",
    "$$\n",
    "\n",
    "On demande de déterminer le correcteur dont le but est de permettre une erreur statique nulle et une erreur de\n",
    "vitesse minimale, tout en assurant une réponse indicielle dont le dépassement est limité à 5%."
   ]
  },
  {
   "cell_type": "code",
   "execution_count": null,
   "id": "fd8f4ad3-9cde-4241-9412-83085282723a",
   "metadata": {
    "tags": [
     "hide-cell"
    ]
   },
   "outputs": [],
   "source": []
  },
  {
   "cell_type": "markdown",
   "id": "efa348b1-cccf-457f-97f4-5b675d4262ad",
   "metadata": {},
   "source": [
    "### Exercice 7 page 7-18 (résolution dans les notes) (facultatif)"
   ]
  },
  {
   "cell_type": "code",
   "execution_count": null,
   "id": "e9f913f4-1777-49f3-9bd5-27b5bc64ccc8",
   "metadata": {
    "tags": [
     "hide-cell"
    ]
   },
   "outputs": [],
   "source": []
  },
  {
   "cell_type": "markdown",
   "id": "6a0f0b38-ef33-4a77-a2e7-3ded08d002cb",
   "metadata": {
    "tags": []
   },
   "source": [
    "## Exercices récapitulatifs\n",
    "\n",
    "### Exercice type examen (cf. HELMo Learn)"
   ]
  },
  {
   "cell_type": "code",
   "execution_count": null,
   "id": "3365a23a-8bf2-41c0-af20-3c63e2d59766",
   "metadata": {
    "tags": [
     "hide-cell"
    ]
   },
   "outputs": [],
   "source": []
  },
  {
   "cell_type": "markdown",
   "id": "96b4c6be-b0e4-4b4e-bac0-896576a5dd2f",
   "metadata": {},
   "source": [
    "### Application 5 (cf. p. \"application-8\")\n",
    "\n",
    "Effectuez la résolution par programmation Python."
   ]
  },
  {
   "cell_type": "code",
   "execution_count": null,
   "id": "980468fa-3ff1-417b-82ec-df55da2cd094",
   "metadata": {
    "tags": [
     "hide-cell"
    ]
   },
   "outputs": [],
   "source": []
  },
  {
   "cell_type": "markdown",
   "id": "aca08c67-6a69-4fce-a002-445f3f8ececa",
   "metadata": {},
   "source": [
    "### Exercice 3 page 7-27"
   ]
  },
  {
   "cell_type": "code",
   "execution_count": null,
   "id": "8360a4df-86c3-4265-b016-6daba88d011a",
   "metadata": {
    "tags": [
     "hide-cell"
    ]
   },
   "outputs": [],
   "source": []
  },
  {
   "cell_type": "markdown",
   "id": "2dc250b5-e82f-41fb-af21-38864abbcab9",
   "metadata": {},
   "source": [
    "### Application 3  (cf. p. \"application-4\")\n",
    "\n",
    "Effectuez la résolution par programmation Python."
   ]
  },
  {
   "cell_type": "code",
   "execution_count": null,
   "id": "cbb688e7-8370-4475-8328-cde845b051d1",
   "metadata": {
    "tags": [
     "hide-cell"
    ]
   },
   "outputs": [],
   "source": []
  }
 ],
 "metadata": {
  "kernelspec": {
   "display_name": "Python 3 (ipykernel)",
   "language": "python",
   "name": "python3"
  },
  "language_info": {
   "codemirror_mode": {
    "name": "ipython",
    "version": 3
   },
   "file_extension": ".py",
   "mimetype": "text/x-python",
   "name": "python",
   "nbconvert_exporter": "python",
   "pygments_lexer": "ipython3",
   "version": "3.7.11"
  }
 },
 "nbformat": 4,
 "nbformat_minor": 5
}
