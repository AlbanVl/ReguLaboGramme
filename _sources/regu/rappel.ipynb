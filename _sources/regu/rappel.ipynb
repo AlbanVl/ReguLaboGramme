{
 "cells": [
  {
   "cell_type": "markdown",
   "source": [
    "# Aide-mémoire\n",
    "\n",
    "Site Jupyter Book: https://jupyterbook.org/intro.html"
   ],
   "metadata": {}
  },
  {
   "cell_type": "markdown",
   "source": [
    "## Admonition\n",
    "\n",
    ":::{danger}\n",
    "Danger repéré.\n",
    ":::\n",
    "\n",
    ":::{note}\n",
    "Info à transmettre.\n",
    ":::\n",
    "\n",
    ":::{admonition} Attention\n",
    ":class: warning\n",
    "Chose à faire attention!\n",
    ":::\n",
    "\n",
    ":::{admonition} Astuce\n",
    ":class: tip\n",
    "Astuce à donner.\n",
    ":::\n",
    "\n",
    ":::{admonition} A voir aussi\n",
    ":class: seealso\n",
    "Chose à voir.\n",
    ":::"
   ],
   "metadata": {}
  },
  {
   "cell_type": "markdown",
   "source": [
    "## Cacher - supprimer\n",
    "\n",
    "https://jupyterbook.org/interactive/hiding.html?highlight=hide\n",
    "\n"
   ],
   "metadata": {}
  },
  {
   "cell_type": "markdown",
   "source": [
    "## Ajouter des flèches\n",
    "\n",
    "https://www.math-linux.com/latex-26/faq/latex-faq/article/latex-arrows"
   ],
   "metadata": {}
  },
  {
   "cell_type": "markdown",
   "source": [
    "## Ajouter une ligne blanche\n",
    "\n",
    "&nbsp;"
   ],
   "metadata": {}
  }
 ],
 "metadata": {
  "kernelspec": {
   "display_name": "Python 3 (ipykernel)",
   "language": "python",
   "name": "python3"
  },
  "language_info": {
   "codemirror_mode": {
    "name": "ipython",
    "version": 3
   },
   "file_extension": ".py",
   "mimetype": "text/x-python",
   "name": "python",
   "nbconvert_exporter": "python",
   "pygments_lexer": "ipython3",
   "version": "3.8.10"
  }
 },
 "nbformat": 4,
 "nbformat_minor": 5
}