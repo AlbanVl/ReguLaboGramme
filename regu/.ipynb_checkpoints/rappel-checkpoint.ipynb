{
 "cells": [
  {
   "cell_type": "markdown",
   "id": "e4420507",
   "metadata": {},
   "source": [
    "# Aide-mémoire\n",
    "\n",
    "Site Jupyter Book: https://jupyterbook.org/intro.html"
   ]
  },
  {
   "cell_type": "markdown",
   "id": "4c7c40fa",
   "metadata": {},
   "source": [
    "## Avertissements\n",
    "\n",
    ":::{danger}\n",
    "Danger repéré.\n",
    ":::\n",
    "\n",
    ":::{note}\n",
    "Info à transmettre.\n",
    ":::\n",
    "\n",
    ":::{admonition} Attention\n",
    ":class: warning\n",
    "Chose à faire attention!\n",
    ":::\n",
    "\n",
    ":::{admonition} Astuce\n",
    ":class: tip\n",
    "Astuce à donner.\n",
    ":::\n",
    "\n",
    ":::{admonition} A voir aussi\n",
    ":class: seealso\n",
    "Chose à voir.\n",
    ":::"
   ]
  },
  {
   "cell_type": "markdown",
   "id": "0c912463-4bfd-4893-abaa-729fa2d3f6c8",
   "metadata": {},
   "source": [
    "## Symboles Latex\n",
    "\n",
    "- Liste des symboles Latex : https://oeis.org/wiki/List_of_LaTeX_mathematical_symbols\n",
    "\n",
    "- Ajouter des flèches: https://www.math-linux.com/latex-26/faq/latex-faq/article/latex-arrows"
   ]
  },
  {
   "cell_type": "markdown",
   "id": "c5600318",
   "metadata": {},
   "source": [
    "## Cacher - supprimer\n",
    "\n",
    "https://jupyterbook.org/interactive/hiding.html?highlight=hide\n",
    "\n"
   ]
  },
  {
   "cell_type": "markdown",
   "id": "f9edae56",
   "metadata": {},
   "source": [
    "## Ajouter une ligne blanche\n",
    "\n",
    "&nbsp;"
   ]
  },
  {
   "cell_type": "markdown",
   "id": "f0763aa3-92db-4d20-9702-0c2431dc64c8",
   "metadata": {},
   "source": [
    "## Equations en accolades\n",
    "\n",
    "**Seule**\n",
    "\n",
    "$$\n",
    "\\left\\{\n",
    "    \\begin{array}{ll}\n",
    "        \\frac{2\\zeta}{\\omega_n}=\\frac{3}{K+1}\\\\\n",
    "        \\frac{1}{\\omega_n^2}=\\frac{2}{K+1}\n",
    "    \\end{array}\n",
    "\\right.\n",
    "$$\n",
    "\n",
    "**Sur la même ligne:**\n",
    "\n",
    "$$\n",
    "\\begin{alignat*}{2}\n",
    "\\left\\{ \\begin{aligned}\n",
    "    \\begin{array}{ll}\n",
    "        \\frac{3}{K+1}=\\frac{0.9}{\\omega_n} \\\\\n",
    "        \\frac{1}{\\omega_n^2}=\\frac{2}{K+1}\n",
    "    \\end{array}\n",
    "\\end{aligned}\\right.\n",
    "\\Rightarrow\n",
    "\\left\\{ \\begin{aligned}\n",
    "    \\begin{array}{ll}\n",
    "        \\mathbf{K=4.4} \\\\\n",
    "        \\omega_n=1.66\n",
    "    \\end{array}\n",
    "\\end{aligned}\\right.\n",
    "\\end{alignat*}\\\n",
    "$$\n",
    "\n",
    "**Accolade à droite:**\n",
    "\n",
    "$$\n",
    "\\left. \\begin{array}{r} \n",
    "        p_1 \\\\\n",
    "        p_2\n",
    "\\end{array} \\right\\}\n",
    "= \\omega_n*(-\\zeta \\pm j\\sqrt{1-\\zeta^2})\n",
    "= \\sigma \\pm j\\omega_d\n",
    "$$"
   ]
  }
 ],
 "metadata": {
  "kernelspec": {
   "display_name": "Python 3 (ipykernel)",
   "language": "python",
   "name": "python3"
  },
  "language_info": {
   "codemirror_mode": {
    "name": "ipython",
    "version": 3
   },
   "file_extension": ".py",
   "mimetype": "text/x-python",
   "name": "python",
   "nbconvert_exporter": "python",
   "pygments_lexer": "ipython3",
   "version": "3.8.10"
  }
 },
 "nbformat": 4,
 "nbformat_minor": 5
}
