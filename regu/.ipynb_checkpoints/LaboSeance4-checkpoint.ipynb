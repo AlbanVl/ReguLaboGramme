{
 "cells": [
  {
   "cell_type": "markdown",
   "id": "b100e44f-84f6-440f-ba60-9a1295d1571a",
   "metadata": {},
   "source": [
    "# Séance 4"
   ]
  },
  {
   "cell_type": "markdown",
   "id": "bde24236-5adb-4a75-9fb0-ae181061b98e",
   "metadata": {
    "tags": []
   },
   "source": [
    "## Objectifs de la séance\n",
    "\n",
    "- Analyse de la réponse à un saut de consigne :\n",
    "- Extrapolation à partir de la réponse indicielle\n",
    "- Tracé du signal"
   ]
  },
  {
   "cell_type": "code",
   "execution_count": 1,
   "id": "cba3cddb-bc27-4da2-937a-301a095affa0",
   "metadata": {},
   "outputs": [],
   "source": [
    "from IPython.display import Image, display, Markdown\n",
    "\n",
    "from control.matlab import *  # Python Control Systems Toolbox (compatibility with MATLAB)\n",
    "import numpy as np              # Library to manipulate array and matrix\n",
    "import matplotlib.pyplot as plt # Library to create figures and plots\n",
    "import math # Library to be able to do some mathematical operations\n",
    "import ReguLabFct as rlf # Library useful for the laboratory of regulation of HELMo Gramme"
   ]
  },
  {
   "cell_type": "code",
   "execution_count": null,
   "id": "1dadaf99-2f72-48e7-932e-4bab54565af3",
   "metadata": {},
   "outputs": [],
   "source": []
  }
 ],
 "metadata": {
  "kernelspec": {
   "display_name": "Python 3 (ipykernel)",
   "language": "python",
   "name": "python3"
  },
  "language_info": {
   "codemirror_mode": {
    "name": "ipython",
    "version": 3
   },
   "file_extension": ".py",
   "mimetype": "text/x-python",
   "name": "python",
   "nbconvert_exporter": "python",
   "pygments_lexer": "ipython3",
   "version": "3.8.10"
  }
 },
 "nbformat": 4,
 "nbformat_minor": 5
}
