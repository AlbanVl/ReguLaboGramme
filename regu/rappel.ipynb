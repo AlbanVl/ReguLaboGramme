{
 "cells": [
  {
   "cell_type": "markdown",
   "id": "f2e1fd0f",
   "metadata": {},
   "source": [
    "# Aide-mémoire\n",
    "\n",
    "Site Jupyter Book: https://jupyterbook.org/intro.html"
   ]
  },
  {
   "cell_type": "markdown",
   "id": "cd525c38",
   "metadata": {},
   "source": [
    "## Avertissements\n",
    "\n",
    ":::{danger}\n",
    "Danger repéré.\n",
    ":::\n",
    "\n",
    ":::{note}\n",
    "Info à transmettre.\n",
    ":::\n",
    "\n",
    ":::{admonition} Attention\n",
    ":class: warning\n",
    "Chose à faire attention!\n",
    ":::\n",
    "\n",
    ":::{admonition} Astuce\n",
    ":class: tip\n",
    "Astuce à donner.\n",
    ":::\n",
    "\n",
    ":::{admonition} A voir aussi\n",
    ":class: seealso\n",
    "Chose à voir.\n",
    ":::"
   ]
  },
  {
   "cell_type": "markdown",
   "id": "d88cd4a4",
   "metadata": {},
   "source": [
    "## Symboles Latex\n",
    "\n",
    "- Liste des symboles Latex : https://oeis.org/wiki/List_of_LaTeX_mathematical_symbols\n",
    "\n",
    "- Ajouter des flèches: https://www.math-linux.com/latex-26/faq/latex-faq/article/latex-arrows"
   ]
  },
  {
   "cell_type": "markdown",
   "id": "ae2feeb2",
   "metadata": {},
   "source": [
    "## Cacher - supprimer\n",
    "\n",
    "https://jupyterbook.org/interactive/hiding.html?highlight=hide\n",
    "\n"
   ]
  },
  {
   "cell_type": "markdown",
   "id": "0a2a6d84",
   "metadata": {},
   "source": [
    "## Ajouter une ligne blanche\n",
    "\n",
    "&nbsp;"
   ]
  },
  {
   "cell_type": "markdown",
   "id": "68e5c9fc",
   "metadata": {},
   "source": [
    "## Equations en accolades\r\n",
    "\r\n",
    "**Seule**\r\n",
    "\r\n",
    "$$\r\n",
    "\\left\\{\r\n",
    "    \\begin{array}{ll}\r\n",
    "        \\frac{2\\zeta}{\\omega_n}=\\frac{3}{K+1}\\\\\r\n",
    "        \\frac{1}{\\omega_n^2}=\\frac{2}{K+1}\r\n",
    "    \\end{array}\r\n",
    "\\right.\r\n",
    "$$\r\n",
    "\r\n",
    "**Sur la même ligne:**\r\n",
    "\r\n",
    "$$\r\n",
    "\\begin{alignat*}{2}\r\n",
    "\\left\\{ \\begin{aligned}\r\n",
    "    \\begin{array}{ll}\r\n",
    "        \\frac{3}{K+1}=\\frac{0.9}{\\omega_n} \\\\\r\n",
    "        \\frac{1}{\\omega_n^2}=\\frac{2}{K+1}\r\n",
    "    \\end{array}\r\n",
    "\\end{aligned}\\right.\r\n",
    "\\Rightarrow\r\n",
    "\\left\\{ \\begin{aligned}\r\n",
    "    \\begin{array}{ll}\r\n",
    "        \\mathbf{K=4.4} \\\\\r\n",
    "        \\omega_n=1.66\r\n",
    "    \\end{array}\r\n",
    "\\end{aligned}\\right.\r\n",
    "\\end{alignat*}\\\r\n",
    "$$\r\n",
    "\r\n",
    "**Accolade à droite:**\r\n",
    "\r\n",
    "$$\r\n",
    "\\left. \\begin{array}{r} \r\n",
    "        p_1 \\\\\r\n",
    "        p_2\r\n",
    "\\end{array} \\right\\}\r\n",
    "= \\omega_n*(-\\zeta \\pm j\\sqrt{1-\\zeta^2})\r\n",
    "= \\sigma \\pm j\\omega_d\r\n",
    "$$"
   ]
  },
  {
   "cell_type": "markdown",
   "id": "01cd8d88",
   "metadata": {},
   "source": [
    "## Commandes consoles\r\n",
    "\r\n",
    "### Lancement environnement\r\n",
    "\r\n",
    "    source regu/bin/activate\r\n",
    "\r\n",
    "### Fermeture environnement\r\n",
    "    deactivate\r\n",
    "\r\n",
    "### Accès dossier\r\n",
    "\r\n",
    "    cd OneDrive\\ -\\ student.helmo.be/Cours/MA1/MA1\\ -\\ Régulation/\r\n",
    "\r\n",
    "### Build\r\n",
    "\r\n",
    "    jb build ReguLaboGramme/\r\n",
    "\r\n",
    "### Supprimer un fichier avec son contenu\r\n",
    "\r\n",
    "    rm -rf dir-name\r\n",
    "\r\n"
   ]
  }
 ],
 "metadata": {
  "kernelspec": {
   "display_name": "Python 3 (ipykernel)",
   "language": "python",
   "name": "python3"
  },
  "language_info": {
   "codemirror_mode": {
    "name": "ipython",
    "version": 3
   },
   "file_extension": ".py",
   "mimetype": "text/x-python",
   "name": "python",
   "nbconvert_exporter": "python",
   "pygments_lexer": "ipython3",
   "version": "3.7.11"
  }
 },
 "nbformat": 4,
 "nbformat_minor": 5
}
