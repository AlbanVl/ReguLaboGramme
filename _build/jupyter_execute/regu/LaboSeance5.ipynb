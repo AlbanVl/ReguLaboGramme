{
 "cells": [
  {
   "cell_type": "markdown",
   "id": "5abd32a7-8c54-4272-8415-09299774e7b0",
   "metadata": {},
   "source": [
    "# Séance 5"
   ]
  },
  {
   "cell_type": "markdown",
   "id": "a1331b3e-ff2e-4f05-837e-2f7c4277be26",
   "metadata": {
    "tags": []
   },
   "source": [
    "## Objectifs de la séance\n",
    "\n",
    "- Tracé des différents diagrammes fréquentiels\n",
    "- Effet d’un correcteur proportionnel dans ces différents diagrammes => régulateur P\n",
    "- Construction asymptotiques du diagramme de Bode par décomposition de la fonction de transfert en fonction simple\n",
    "- Analyse de la stabilité/instabilité"
   ]
  },
  {
   "cell_type": "code",
   "execution_count": 1,
   "id": "4f87facf-7eba-4c5a-a45f-381b9820e7f3",
   "metadata": {},
   "outputs": [],
   "source": [
    "from IPython.display import Image, display, Markdown\n",
    "\n",
    "from control.matlab import *  # Python Control Systems Toolbox (compatibility with MATLAB)\n",
    "import numpy as np              # Library to manipulate array and matrix\n",
    "import matplotlib.pyplot as plt # Library to create figures and plots\n",
    "import math # Library to be able to do some mathematical operations\n",
    "import ReguLabFct as rlf # Library useful for the laboratory of regulation of HELMo Gramme"
   ]
  },
  {
   "cell_type": "code",
   "execution_count": null,
   "id": "54ae55c3-9b4e-4db9-8c3c-a9a560793ac6",
   "metadata": {},
   "outputs": [],
   "source": []
  }
 ],
 "metadata": {
  "kernelspec": {
   "display_name": "Python 3 (ipykernel)",
   "language": "python",
   "name": "python3"
  },
  "language_info": {
   "codemirror_mode": {
    "name": "ipython",
    "version": 3
   },
   "file_extension": ".py",
   "mimetype": "text/x-python",
   "name": "python",
   "nbconvert_exporter": "python",
   "pygments_lexer": "ipython3",
   "version": "3.8.10"
  }
 },
 "nbformat": 4,
 "nbformat_minor": 5
}