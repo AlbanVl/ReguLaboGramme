{
 "cells": [
  {
   "cell_type": "markdown",
   "id": "5abd32a7-8c54-4272-8415-09299774e7b0",
   "metadata": {},
   "source": [
    "# Séance 5"
   ]
  },
  {
   "cell_type": "markdown",
   "id": "a1331b3e-ff2e-4f05-837e-2f7c4277be26",
   "metadata": {
    "tags": []
   },
   "source": [
    "## Objectifs de la séance\n",
    "\n",
    "- Tracé des différents diagrammes fréquentiels\n",
    "- Effet d’un correcteur proportionnel dans ces différents diagrammes => régulateur P\n",
    "- Construction asymptotiques du diagramme de Bode par décomposition de la fonction de transfert en fonction simple\n",
    "- Analyse de la stabilité/instabilité"
   ]
  },
  {
   "cell_type": "code",
   "execution_count": 1,
   "id": "74fbe444-9a9b-4e7a-a78c-9d08b7fa0cac",
   "metadata": {
    "tags": [
     "remove-cell"
    ]
   },
   "outputs": [],
   "source": [
    "from IPython.display import Image, display, Markdown\n",
    "\n",
    "from control import matlab as ml  # Python Control Systems Toolbox (compatibility with MATLAB)\n",
    "import numpy as np              # Library to manipulate array and matrix\n",
    "import matplotlib.pyplot as plt # Library to create figures and plots\n",
    "import math # Library to be able to do some mathematical operations\n",
    "import ReguLabFct as rlf # Library useful for the laboratory of regulation of HELMo Gramme"
   ]
  },
  {
   "cell_type": "markdown",
   "id": "f211c19e-4277-4a0e-9c42-9521a77a3d58",
   "metadata": {},
   "source": [
    "## Diagrammes fréquentiels\n",
    "\n",
    "Représentez le système modélisé par un pôle simple\n",
    "$\n",
    " H_{BO}(p)=\\frac{1}{p+1}\n",
    "$\n",
    "dans les différents diagrammes pour visualiser l’effet d’un pôle : p=-1, $\\tau$=1s et $\\omega_n$=1rad/s"
   ]
  },
  {
   "cell_type": "code",
   "execution_count": 2,
   "id": "f016b2ae-8d57-4f2e-a088-d3a532868c13",
   "metadata": {},
   "outputs": [],
   "source": [
    "H_BO = ml.tf(1, [1, 1])"
   ]
  },
  {
   "cell_type": "markdown",
   "id": "6886a4f5-b683-4cb1-baa3-4f95e60edf64",
   "metadata": {},
   "source": [
    "### Nyquist (*cf. p. 4-6*)"
   ]
  },
  {
   "cell_type": "code",
   "execution_count": 3,
   "id": "dc1210d4-5b4f-4bd5-b7b6-708293bee9fa",
   "metadata": {},
   "outputs": [
    {
     "data": {
      "image/png": "[encoded data removed]",
      "text/plain": [
       "<Figure size 432x288 with 1 Axes>"
      ]
     },
     "metadata": {
      "filenames": {
       "image/png": "/mnt/c/Users/P150077/OneDrive - student.helmo.be/Cours/MA1/MA1 - Régulation/ReguLaboGramme/_build/jupyter_execute/regu/LaboSeance5_6_0.png"
      },
      "needs_background": "light"
     },
     "output_type": "display_data"
    }
   ],
   "source": [
    "real, imag, freq = ml.nyquist(H_BO);"
   ]
  },
  {
   "cell_type": "markdown",
   "id": "b5ac7370-7650-4633-b72d-f279a343e9ac",
   "metadata": {},
   "source": [
    ":::{admonition} Attention\n",
    ":class: warning\n",
    "Attention, le graphique est tracé aussi pour des $\\omega_n<0$ (en trait discontinu) ce qui n’a aucun sens physiquement! Il ne faut donc tenir compte **que** du tracé en trait plein.\n",
    ":::"
   ]
  },
  {
   "cell_type": "markdown",
   "id": "86e19d23-4ad2-4117-8d8b-edc772ff0f25",
   "metadata": {},
   "source": [
    "### Bode"
   ]
  },
  {
   "cell_type": "markdown",
   "id": "ea00296d-0693-4547-bfa2-5576cb1162af",
   "metadata": {},
   "source": [
    "### Nichols"
   ]
  },
  {
   "cell_type": "code",
   "execution_count": null,
   "id": "98b956fe-c0f5-4f85-8f75-d1c958fd9ad8",
   "metadata": {},
   "outputs": [],
   "source": []
  },
  {
   "cell_type": "code",
   "execution_count": null,
   "id": "da5427bd-9ac6-415f-ad1b-0a09772f79c8",
   "metadata": {},
   "outputs": [],
   "source": []
  }
 ],
 "metadata": {
  "kernelspec": {
   "display_name": "Python 3 (ipykernel)",
   "language": "python",
   "name": "python3"
  },
  "language_info": {
   "codemirror_mode": {
    "name": "ipython",
    "version": 3
   },
   "file_extension": ".py",
   "mimetype": "text/x-python",
   "name": "python",
   "nbconvert_exporter": "python",
   "pygments_lexer": "ipython3",
   "version": "3.7.11"
  }
 },
 "nbformat": 4,
 "nbformat_minor": 5
}