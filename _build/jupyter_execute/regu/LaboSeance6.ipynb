{
 "cells": [
  {
   "cell_type": "markdown",
   "id": "97f26214-eecc-4e09-8b27-5f652d06a97b",
   "metadata": {},
   "source": [
    "# Séance 6"
   ]
  },
  {
   "cell_type": "markdown",
   "id": "0b7ec5d2-ed94-4ca9-a69e-82ead3ce4c9a",
   "metadata": {
    "tags": []
   },
   "source": [
    "## Objectifs de la séance\n",
    "\n",
    "- Forme de fonction de transfert exploitant une variable ‘p’\n",
    "- Résolution graphique de la détermination du correcteur PD par placement fréquentiel\n",
    "- Résolution graphique de la correction du correcteur PID"
   ]
  },
  {
   "cell_type": "code",
   "execution_count": 1,
   "id": "435faa9b-7008-4ae3-a913-d17622d60ee6",
   "metadata": {
    "tags": [
     "remove-cell"
    ]
   },
   "outputs": [],
   "source": [
    "from IPython.display import Image, display, Markdown\n",
    "\n",
    "from control.matlab import *  # Python Control Systems Toolbox (compatibility with MATLAB)\n",
    "import numpy as np              # Library to manipulate array and matrix\n",
    "import matplotlib.pyplot as plt # Library to create figures and plots\n",
    "import math # Library to be able to do some mathematical operations\n",
    "import ReguLabFct as rlf # Library useful for the laboratory of regulation of HELMo Gramme"
   ]
  },
  {
   "cell_type": "code",
   "execution_count": null,
   "id": "9966a385-e717-458d-a1b8-cb5cfe49dd93",
   "metadata": {},
   "outputs": [],
   "source": []
  }
 ],
 "metadata": {
  "kernelspec": {
   "display_name": "Python 3 (ipykernel)",
   "language": "python",
   "name": "python3"
  },
  "language_info": {
   "codemirror_mode": {
    "name": "ipython",
    "version": 3
   },
   "file_extension": ".py",
   "mimetype": "text/x-python",
   "name": "python",
   "nbconvert_exporter": "python",
   "pygments_lexer": "ipython3",
   "version": "3.7.11"
  }
 },
 "nbformat": 4,
 "nbformat_minor": 5
}