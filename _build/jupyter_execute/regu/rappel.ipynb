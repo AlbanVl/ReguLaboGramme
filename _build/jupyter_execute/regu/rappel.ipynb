{
 "cells": [
  {
   "cell_type": "markdown",
   "id": "9625cfc2-516b-4bb7-bb61-636990e8ae1b",
   "metadata": {},
   "source": [
    "# Aide-mémoire\n",
    "\n",
    "Site Jupyter Book: https://jupyterbook.org/intro.html"
   ]
  },
  {
   "cell_type": "markdown",
   "id": "7e0ad777-25bc-4dd2-b93d-e2826422edf9",
   "metadata": {},
   "source": [
    "## Admonition\n",
    "\n",
    ":::{danger}\n",
    "Danger repéré.\n",
    ":::\n",
    "\n",
    ":::{note}\n",
    "Info à transmettre.\n",
    ":::\n",
    "\n",
    ":::{admonition} Attention\n",
    ":class: warning\n",
    "Chose à faire attention!\n",
    ":::\n",
    "\n",
    ":::{admonition} Astuce\n",
    ":class: tip\n",
    "Astuce à donner.\n",
    ":::\n",
    "\n",
    ":::{admonition} A voir aussi\n",
    ":class: seealso\n",
    "Chose à voir.\n",
    ":::"
   ]
  },
  {
   "cell_type": "markdown",
   "id": "946bc738-5fcf-4dcd-959f-1b768992fb83",
   "metadata": {},
   "source": [
    "## Cacher - supprimer\n",
    "\n",
    "https://jupyterbook.org/interactive/hiding.html?highlight=hide\n",
    "\n"
   ]
  },
  {
   "cell_type": "markdown",
   "id": "a7e3807c-7c93-4b71-84a4-0787634560ae",
   "metadata": {},
   "source": [
    "## Ajouter des flèches\n",
    "\n",
    "https://www.math-linux.com/latex-26/faq/latex-faq/article/latex-arrows"
   ]
  },
  {
   "cell_type": "code",
   "execution_count": null,
   "id": "ab854301-a9be-4705-b4b9-ef0c6f5ab595",
   "metadata": {},
   "outputs": [],
   "source": []
  }
 ],
 "metadata": {
  "kernelspec": {
   "display_name": "Python 3 (ipykernel)",
   "language": "python",
   "name": "python3"
  },
  "language_info": {
   "codemirror_mode": {
    "name": "ipython",
    "version": 3
   },
   "file_extension": ".py",
   "mimetype": "text/x-python",
   "name": "python",
   "nbconvert_exporter": "python",
   "pygments_lexer": "ipython3",
   "version": "3.8.10"
  }
 },
 "nbformat": 4,
 "nbformat_minor": 5
}