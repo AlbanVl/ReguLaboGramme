{
 "cells": [
  {
   "cell_type": "markdown",
   "id": "9be0c5a5-d90c-470b-b267-d4b421389fd8",
   "metadata": {},
   "source": [
    "# Séance 2"
   ]
  },
  {
   "cell_type": "markdown",
   "id": "7190aecf-f22d-4ec6-b839-3431540cec08",
   "metadata": {},
   "source": [
    "## Objectifs de la séance\n",
    "- Utiliser les fonctions de base de control designer toolbox\n",
    "- Tracer et analyser une réponse indicielle d’ordre 1 et 2\n",
    "- Analyser le comportement d’un circuit RC/RL\n",
    "- Analyser le comportement d’un moteur avec ou sans self\n"
   ]
  },
  {
   "cell_type": "code",
   "execution_count": null,
   "id": "02cc2c85-52e0-44a7-8e9c-144d18c47c93",
   "metadata": {},
   "outputs": [],
   "source": []
  }
 ],
 "metadata": {
  "kernelspec": {
   "display_name": "Python 3 (ipykernel)",
   "language": "python",
   "name": "python3"
  },
  "language_info": {
   "codemirror_mode": {
    "name": "ipython",
    "version": 3
   },
   "file_extension": ".py",
   "mimetype": "text/x-python",
   "name": "python",
   "nbconvert_exporter": "python",
   "pygments_lexer": "ipython3",
   "version": "3.8.10"
  }
 },
 "nbformat": 4,
 "nbformat_minor": 5
}